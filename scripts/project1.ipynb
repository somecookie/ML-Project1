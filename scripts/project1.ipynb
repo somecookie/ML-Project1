{
 "cells": [
  {
   "cell_type": "code",
   "execution_count": 1,
   "metadata": {},
   "outputs": [],
   "source": [
    "# Useful starting lines\n",
    "%matplotlib inline\n",
    "import numpy as np\n",
    "import matplotlib.pyplot as plt\n",
    "%load_ext autoreload\n",
    "%autoreload 2"
   ]
  },
  {
   "cell_type": "markdown",
   "metadata": {},
   "source": [
    "## Load the training data into feature matrix, class labels, and event ids:"
   ]
  },
  {
   "cell_type": "code",
   "execution_count": 2,
   "metadata": {},
   "outputs": [
    {
     "name": "stdout",
     "output_type": "stream",
     "text": [
      "(250000,) (250000, 30)\n"
     ]
    }
   ],
   "source": [
    "from proj1_helpers import *\n",
    "DATA_TRAIN_PATH = '../data/train.csv' # TODO: download train data and supply path here \n",
    "y, tX, ids = load_csv_data(DATA_TRAIN_PATH)\n",
    "print(y.shape, tX.shape)"
   ]
  },
  {
   "cell_type": "code",
   "execution_count": 3,
   "metadata": {},
   "outputs": [],
   "source": [
    "with open(DATA_TRAIN_PATH, \"r\") as f:\n",
    "    headers = f.readline().strip().split(',')[2:]"
   ]
  },
  {
   "cell_type": "markdown",
   "metadata": {},
   "source": [
    "## Do your thing crazy machine learning thing here :) ..."
   ]
  },
  {
   "cell_type": "code",
   "execution_count": 4,
   "metadata": {},
   "outputs": [],
   "source": [
    "from implementations import *"
   ]
  },
  {
   "cell_type": "code",
   "execution_count": 5,
   "metadata": {},
   "outputs": [
    {
     "name": "stdout",
     "output_type": "stream",
     "text": [
      "(99913, 14) (99913, 1)\n",
      "(77544, 17) (77544, 1)\n",
      "(72543, 25) (72543, 1)\n"
     ]
    }
   ],
   "source": [
    "xs, ids = process_data(tX)\n",
    "assert len(xs) == len(ids)\n",
    "\n",
    "ys = y[ids[0]], y[ids[1]], y[ids[2]]\n",
    "\n",
    "s = 0\n",
    "for i in range(len(xs)):\n",
    "    s += xs[i].shape[0]\n",
    "    print(xs[i].shape, ys[i].shape)\n",
    "\n",
    "assert s == tX.shape[0]\n"
   ]
  },
  {
   "cell_type": "code",
   "execution_count": 6,
   "metadata": {
    "scrolled": true
   },
   "outputs": [
    {
     "name": "stdout",
     "output_type": "stream",
     "text": [
      "Start training for model model0\n",
      "Start training for model model1\n",
      "Start training for model model2\n",
      "==================================================\n",
      "model1\n",
      "10.14% of training done\n",
      "Intermediate result:\n",
      "Degree:  2 Lambda: 0.0000054287 Accuracy: 0.790\n",
      "==================================================\n",
      "model0\n",
      "10.14% of training done\n",
      "Intermediate result:\n",
      "Degree:  2 Lambda: 0.0000115140 Accuracy: 0.840\n",
      "==================================================\n",
      "model2\n",
      "10.14% of training done\n",
      "Intermediate result:\n",
      "Degree:  2 Lambda: 0.0000294705 Accuracy: 0.812\n",
      "==================================================\n",
      "model1\n",
      "20.14% of training done\n",
      "Intermediate result:\n",
      "Degree:  3 Lambda: 0.0000625055 Accuracy: 0.791\n",
      "==================================================\n",
      "model0\n",
      "20.14% of training done\n",
      "Intermediate result:\n",
      "Degree:  3 Lambda: 0.0000167683 Accuracy: 0.840\n",
      "==================================================\n",
      "model2\n",
      "20.14% of training done\n",
      "Intermediate result:\n",
      "Degree:  3 Lambda: 0.0008685114 Accuracy: 0.814\n",
      "==================================================\n",
      "model1\n",
      "30.14% of training done\n",
      "Intermediate result:\n",
      "Degree:  5 Lambda: 0.0000037276 Accuracy: 0.794\n",
      "==================================================\n",
      "model0\n",
      "30.14% of training done\n",
      "Intermediate result:\n",
      "Degree:  5 Lambda: 0.0000010000 Accuracy: 0.841\n",
      "==================================================\n",
      "model2\n",
      "30.14% of training done\n",
      "Intermediate result:\n",
      "Degree:  5 Lambda: 0.0000021210 Accuracy: 0.815\n",
      "==================================================\n",
      "model1\n",
      "40.14% of training done\n",
      "Intermediate result:\n",
      "Degree:  6 Lambda: 0.0000025595 Accuracy: 0.799\n",
      "==================================================\n",
      "model0\n",
      "40.14% of training done\n",
      "Intermediate result:\n",
      "Degree:  6 Lambda: 0.0000010000 Accuracy: 0.843\n",
      "==================================================\n",
      "model2\n",
      "40.14% of training done\n",
      "Intermediate result:\n",
      "Degree:  6 Lambda: 0.0000010000 Accuracy: 0.823\n",
      "==================================================\n",
      "model1\n",
      "50.14% of training done\n",
      "Intermediate result:\n",
      "Degree:  8 Lambda: 0.0000010000 Accuracy: 0.803\n",
      "==================================================\n",
      "model0\n",
      "50.14% of training done\n",
      "Intermediate result:\n",
      "Degree:  8 Lambda: 0.0000010000 Accuracy: 0.843\n",
      "==================================================\n",
      "model2\n",
      "50.14% of training done\n",
      "Intermediate result:\n",
      "Degree:  8 Lambda: 0.0000010000 Accuracy: 0.830\n",
      "==================================================\n",
      "model1\n",
      "60.14% of training done\n",
      "Intermediate result:\n",
      "Degree:  9 Lambda: 0.0000010000 Accuracy: 0.804\n",
      "==================================================\n",
      "model0\n",
      "60.14% of training done\n",
      "Intermediate result:\n",
      "Degree:  9 Lambda: 0.0000017575 Accuracy: 0.844\n",
      "==================================================\n",
      "model2\n",
      "60.14% of training done\n",
      "Intermediate result:\n",
      "Degree:  9 Lambda: 0.0000037276 Accuracy: 0.831\n",
      "==================================================\n",
      "model1\n",
      "70.14% of training done\n",
      "Intermediate result:\n",
      "Degree: 10 Lambda: 0.0000010000 Accuracy: 0.806\n",
      "==================================================\n",
      "model0\n",
      "70.14% of training done\n",
      "Intermediate result:\n",
      "Degree: 10 Lambda: 0.0000030888 Accuracy: 0.844\n",
      "==================================================\n",
      "model2\n",
      "70.14% of training done\n",
      "Intermediate result:\n",
      "Degree: 10 Lambda: 0.0000010000 Accuracy: 0.832\n",
      "==================================================\n",
      "model1\n",
      "80.14% of training done\n",
      "Intermediate result:\n",
      "Degree: 11 Lambda: 0.0000010000 Accuracy: 0.807\n",
      "==================================================\n",
      "model0\n",
      "80.14% of training done\n",
      "Intermediate result:\n",
      "Degree: 11 Lambda: 0.0000025595 Accuracy: 0.844\n",
      "==================================================\n",
      "model2\n",
      "80.14% of training done\n",
      "Intermediate result:\n",
      "Degree: 11 Lambda: 0.0000014563 Accuracy: 0.832\n",
      "==================================================\n",
      "model1\n",
      "90.14% of training done\n",
      "Intermediate result:\n",
      "Degree: 11 Lambda: 0.0000010000 Accuracy: 0.807\n",
      "==================================================\n",
      "model0\n",
      "90.14% of training done\n",
      "Intermediate result:\n",
      "Degree: 12 Lambda: 0.0002329952 Accuracy: 0.844\n",
      "==================================================\n",
      "model2\n",
      "90.14% of training done\n",
      "Intermediate result:\n",
      "Degree: 13 Lambda: 0.0001325711 Accuracy: 0.833\n",
      "==================================================\n",
      "model1\n",
      "Final result:\n",
      "Degree: 11 Lambda: 0.0000010000 Accuracy: 0.807\n",
      "==================================================\n",
      "model0\n",
      "Final result:\n",
      "Degree: 12 Lambda: 0.0002329952 Accuracy: 0.844\n",
      "==================================================\n",
      "model2\n",
      "Final result:\n",
      "Degree: 13 Lambda: 0.0001325711 Accuracy: 0.833\n",
      "==================================================\n",
      "Finish training\n",
      "==================================================\n"
     ]
    }
   ],
   "source": [
    "# train model\n",
    "degrees = np.arange(1,15)\n",
    "lambdas = np.logspace(-6, -2, 50)\n",
    "threeModels = ThreeModels(xs,ys)\n",
    "threeModels.train(degrees, lambdas, 5)"
   ]
  },
  {
   "cell_type": "code",
   "execution_count": 9,
   "metadata": {},
   "outputs": [],
   "source": [
    "threeModels.save_CV_results(\"../results/cv_res_trigo\")"
   ]
  },
  {
   "cell_type": "code",
   "execution_count": 9,
   "metadata": {},
   "outputs": [
    {
     "name": "stdout",
     "output_type": "stream",
     "text": [
      "True\n"
     ]
    }
   ],
   "source": [
    "threeModels2 = ThreeModels(xs,ys)\n",
    "threeModels2.load_CV_results(\"../results/cv_res\")\n",
    "print((threeModels.models[0].accuracy == threeModels2.models[0].accuracy).all())"
   ]
  },
  {
   "cell_type": "code",
   "execution_count": 10,
   "metadata": {},
   "outputs": [
    {
     "name": "stdout",
     "output_type": "stream",
     "text": [
      "Start training for model model0\n",
      "Start training for model model1\n",
      "Start training for model model2\n",
      "==================================================\n",
      "model1\n",
      "11.00% of training done\n",
      "Intermediate result:\n",
      "Degree: 14 Lambda: 0.0000000254 Accuracy: 0.789\n",
      "==================================================\n",
      "model0\n",
      "11.00% of training done\n",
      "Intermediate result:\n",
      "Degree: 14 Lambda: 0.0000000305 Accuracy: 0.768\n",
      "==================================================\n",
      "model2\n",
      "11.00% of training done\n",
      "Intermediate result:\n",
      "Degree: 14 Lambda: 0.0000000643 Accuracy: 0.802\n",
      "==================================================\n",
      "model1\n",
      "21.00% of training done\n",
      "Intermediate result:\n",
      "Degree: 14 Lambda: 0.0000000933 Accuracy: 0.794\n",
      "==================================================\n",
      "model0\n",
      "21.00% of training done\n",
      "Intermediate result:\n",
      "Degree: 14 Lambda: 0.0000004132 Accuracy: 0.808\n",
      "==================================================\n",
      "model1\n",
      "31.00% of training done\n",
      "Intermediate result:\n",
      "Degree: 14 Lambda: 0.0000018307 Accuracy: 0.801\n",
      "==================================================\n",
      "model0\n",
      "31.00% of training done\n",
      "Intermediate result:\n",
      "Degree: 14 Lambda: 0.0000015199 Accuracy: 0.821\n",
      "==================================================\n",
      "model2\n",
      "21.00% of training done\n",
      "Intermediate result:\n",
      "Degree: 14 Lambda: 0.0000004132 Accuracy: 0.818\n",
      "==================================================\n",
      "model1\n",
      "41.00% of training done\n",
      "Intermediate result:\n",
      "Degree: 14 Lambda: 0.0000018307 Accuracy: 0.801\n",
      "==================================================\n",
      "model0\n",
      "41.00% of training done\n",
      "Intermediate result:\n",
      "Degree: 14 Lambda: 0.0000170735 Accuracy: 0.827\n",
      "==================================================\n",
      "model2\n",
      "31.00% of training done\n",
      "Intermediate result:\n",
      "Degree: 14 Lambda: 0.0000026561 Accuracy: 0.826\n",
      "==================================================\n",
      "model1\n",
      "51.00% of training done\n",
      "Intermediate result:\n",
      "Degree: 14 Lambda: 0.0000247708 Accuracy: 0.803\n",
      "==================================================\n",
      "model0\n",
      "51.00% of training done\n",
      "Intermediate result:\n",
      "Degree: 14 Lambda: 0.0000911163 Accuracy: 0.833\n",
      "==================================================\n",
      "model1\n",
      "61.00% of training done\n",
      "Intermediate result:\n",
      "Degree: 14 Lambda: 0.0001917910 Accuracy: 0.804\n",
      "==================================================\n",
      "model0\n",
      "61.00% of training done\n",
      "Intermediate result:\n",
      "Degree: 14 Lambda: 0.0001917910 Accuracy: 0.834\n",
      "==================================================\n",
      "model2\n",
      "41.00% of training done\n",
      "Intermediate result:\n",
      "Degree: 14 Lambda: 0.0000170735 Accuracy: 0.828\n",
      "==================================================\n",
      "model1\n",
      "71.00% of training done\n",
      "Intermediate result:\n",
      "Degree: 14 Lambda: 0.0001917910 Accuracy: 0.804\n",
      "==================================================\n",
      "model0\n",
      "71.00% of training done\n",
      "Intermediate result:\n",
      "Degree: 14 Lambda: 0.0017886495 Accuracy: 0.834\n",
      "==================================================\n",
      "model1\n",
      "81.00% of training done\n",
      "Intermediate result:\n",
      "Degree: 14 Lambda: 0.0001917910 Accuracy: 0.804\n",
      "==================================================\n",
      "model0\n",
      "81.00% of training done\n",
      "Intermediate result:\n",
      "Degree: 14 Lambda: 0.0166810054 Accuracy: 0.836\n",
      "==================================================\n",
      "model2\n",
      "51.00% of training done\n",
      "Intermediate result:\n",
      "Degree: 14 Lambda: 0.0000911163 Accuracy: 0.829\n",
      "==================================================\n",
      "model1\n",
      "91.00% of training done\n",
      "Intermediate result:\n",
      "Degree: 14 Lambda: 0.0001917910 Accuracy: 0.804\n",
      "==================================================\n",
      "model0\n",
      "91.00% of training done\n",
      "Intermediate result:\n",
      "Degree: 14 Lambda: 0.0166810054 Accuracy: 0.836\n",
      "==================================================\n",
      "model1\n",
      "Final result:\n",
      "Degree: 14 Lambda: 0.0001917910 Accuracy: 0.804\n",
      "==================================================\n",
      "model0\n",
      "Final result:\n",
      "Degree: 14 Lambda: 0.0166810054 Accuracy: 0.836\n",
      "==================================================\n",
      "model2\n",
      "61.00% of training done\n",
      "Intermediate result:\n",
      "Degree: 14 Lambda: 0.0001321941 Accuracy: 0.831\n",
      "==================================================\n",
      "model2\n",
      "71.00% of training done\n",
      "Intermediate result:\n",
      "Degree: 14 Lambda: 0.0008497534 Accuracy: 0.832\n",
      "==================================================\n",
      "model2\n",
      "81.00% of training done\n",
      "Intermediate result:\n",
      "Degree: 14 Lambda: 0.0008497534 Accuracy: 0.832\n",
      "==================================================\n",
      "model2\n",
      "91.00% of training done\n",
      "Intermediate result:\n",
      "Degree: 14 Lambda: 0.0008497534 Accuracy: 0.832\n",
      "==================================================\n",
      "model2\n",
      "Final result:\n",
      "Degree: 14 Lambda: 0.0008497534 Accuracy: 0.832\n",
      "==================================================\n",
      "Finish training\n",
      "==================================================\n"
     ]
    }
   ],
   "source": [
    "threeModelsHigher = ThreeModels(xs,ys)\n",
    "threeModelsHigher.train(np.array([14]), lambdas, 5)"
   ]
  },
  {
   "cell_type": "code",
   "execution_count": 11,
   "metadata": {},
   "outputs": [],
   "source": [
    "threeModels.save_CV_results(\"../results/cv_res_14\")"
   ]
  },
  {
   "cell_type": "code",
   "execution_count": 7,
   "metadata": {},
   "outputs": [
    {
     "ename": "NameError",
     "evalue": "name 'threeModels' is not defined",
     "output_type": "error",
     "traceback": [
      "\u001b[0;31m---------------------------------------------------------------------------\u001b[0m",
      "\u001b[0;31mNameError\u001b[0m                                 Traceback (most recent call last)",
      "\u001b[0;32m/var/folders/_c/vlp1r4893f939sg4_g8w_kfr0000gn/T/ipykernel_4640/2713011546.py\u001b[0m in \u001b[0;36m<module>\u001b[0;34m\u001b[0m\n\u001b[0;32m----> 1\u001b[0;31m \u001b[0;32mfor\u001b[0m \u001b[0mm\u001b[0m \u001b[0;32min\u001b[0m \u001b[0mthreeModels\u001b[0m\u001b[0;34m.\u001b[0m\u001b[0mmodels\u001b[0m\u001b[0;34m:\u001b[0m\u001b[0;34m\u001b[0m\u001b[0;34m\u001b[0m\u001b[0m\n\u001b[0m\u001b[1;32m      2\u001b[0m     \u001b[0mprint\u001b[0m\u001b[0;34m(\u001b[0m\u001b[0mm\u001b[0m\u001b[0;34m.\u001b[0m\u001b[0mname\u001b[0m\u001b[0;34m)\u001b[0m\u001b[0;34m\u001b[0m\u001b[0;34m\u001b[0m\u001b[0m\n\u001b[1;32m      3\u001b[0m     \u001b[0mprint\u001b[0m\u001b[0;34m(\u001b[0m\u001b[0mm\u001b[0m\u001b[0;34m.\u001b[0m\u001b[0mbest_deg\u001b[0m\u001b[0;34m)\u001b[0m\u001b[0;34m\u001b[0m\u001b[0;34m\u001b[0m\u001b[0m\n\u001b[1;32m      4\u001b[0m     \u001b[0mprint\u001b[0m\u001b[0;34m(\u001b[0m\u001b[0mm\u001b[0m\u001b[0;34m.\u001b[0m\u001b[0mbest_lambda\u001b[0m\u001b[0;34m)\u001b[0m\u001b[0;34m\u001b[0m\u001b[0;34m\u001b[0m\u001b[0m\n",
      "\u001b[0;31mNameError\u001b[0m: name 'threeModels' is not defined"
     ]
    }
   ],
   "source": [
    "for m in threeModels.models:\n",
    "    print(m.name)\n",
    "    print(m.best_deg)\n",
    "    print(m.best_lambda)"
   ]
  },
  {
   "cell_type": "markdown",
   "metadata": {},
   "source": [
    "## Generate predictions and save ouput in csv format for submission:"
   ]
  },
  {
   "cell_type": "code",
   "execution_count": 8,
   "metadata": {},
   "outputs": [
    {
     "name": "stdout",
     "output_type": "stream",
     "text": [
      "[350000 350001 350002 ... 918235 918236 918237]\n"
     ]
    }
   ],
   "source": [
    "DATA_TEST_PATH = '../data/test.csv' # TODO: download train data and supply path here \n",
    "_, tX_test, ids_test = load_csv_data(DATA_TEST_PATH)\n",
    "print(ids_test)"
   ]
  },
  {
   "cell_type": "code",
   "execution_count": 10,
   "metadata": {},
   "outputs": [],
   "source": [
    "model_params = [(12, 0.00010974987654930568), (12,0.002595024211399737), (12, 0.001023531021899027)]\n",
    "predModel = ThreeModels(xs, ys)\n",
    "\n",
    "for i,m in enumerate(predModel.models):\n",
    "    m.best_deg = threeModels.models[i].best_deg\n",
    "    m.best_lambda = threeModels.models[i].best_lambda\n",
    "\n",
    "predModel.compute_ws()\n",
    "\n",
    "xs_test, indexes_per_cat = process_data(tX_test)\n",
    "y_pred = np.zeros(len(tX_test))\n",
    "\n",
    "for i, model in enumerate(predModel.models):\n",
    "    x_poly = build_poly(xs_test[i], model.best_deg)\n",
    "    y_pred[indexes_per_cat[i]] = predict_labels(model.w, x_poly)\n",
    "\n",
    "\n"
   ]
  },
  {
   "cell_type": "code",
   "execution_count": 11,
   "metadata": {},
   "outputs": [],
   "source": [
    "OUTPUT_PATH = '../results/prediction.csv' # TODO: fill in desired name of output file for submission\n",
    "create_csv_submission(ids_test, y_pred, OUTPUT_PATH)"
   ]
  },
  {
   "cell_type": "code",
   "execution_count": null,
   "metadata": {
    "collapsed": true
   },
   "outputs": [],
   "source": []
  }
 ],
 "metadata": {
  "anaconda-cloud": {},
  "kernelspec": {
   "display_name": "Python 3 (ipykernel)",
   "language": "python",
   "name": "python3"
  },
  "language_info": {
   "codemirror_mode": {
    "name": "ipython",
    "version": 3
   },
   "file_extension": ".py",
   "mimetype": "text/x-python",
   "name": "python",
   "nbconvert_exporter": "python",
   "pygments_lexer": "ipython3",
   "version": "3.9.7"
  }
 },
 "nbformat": 4,
 "nbformat_minor": 1
}
