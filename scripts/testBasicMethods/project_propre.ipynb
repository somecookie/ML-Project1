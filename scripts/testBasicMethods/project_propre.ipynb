{
 "cells": [
  {
   "cell_type": "code",
   "execution_count": 1,
   "id": "c266bf25-93ba-41d3-9d42-258af1eb2216",
   "metadata": {},
   "outputs": [],
   "source": [
    "# Useful starting lines\n",
    "%matplotlib inline\n",
    "import numpy as np\n",
    "import matplotlib.pyplot as plt\n",
    "import datetime\n",
    "%load_ext autoreload\n",
    "%autoreload 2"
   ]
  },
  {
   "cell_type": "code",
   "execution_count": 2,
   "id": "33fc82d1-3c84-4dda-9c3d-03bacda10e5b",
   "metadata": {},
   "outputs": [],
   "source": [
    "from proj1_helpers import *\n",
    "DATA_TRAIN_PATH = 'train.csv' # TODO: download train data and supply path here \n",
    "y, x, ids = load_csv_data(DATA_TRAIN_PATH)"
   ]
  },
  {
   "cell_type": "code",
   "execution_count": 3,
   "id": "32825633-6b6a-4eef-adc9-e2be52ebc169",
   "metadata": {},
   "outputs": [],
   "source": [
    "from functions_propre import*"
   ]
  },
  {
   "cell_type": "code",
   "execution_count": 36,
   "id": "70afb20b-55d5-406a-ac51-9259a4c27c11",
   "metadata": {},
   "outputs": [],
   "source": [
    "#begin by splitting the data to better evaluate model performance; 50% is allocated to training\n",
    "ratio = 0.80\n",
    "xTrain, yTrain, xTest, yTest = split_data(x, y, ratio)"
   ]
  },
  {
   "cell_type": "code",
   "execution_count": 111,
   "id": "279ae279-a08a-40d5-abdd-844e4ff0dd48",
   "metadata": {},
   "outputs": [
    {
     "name": "stdout",
     "output_type": "stream",
     "text": [
      "Least squares done\n",
      "\n",
      "Ridge done\n",
      "\n",
      "Poly done\n",
      "\n"
     ]
    }
   ],
   "source": [
    "#method 1: simply normalize the data, ignoring extreme values\n",
    "xTrainClean1, _, _ = clean_data(xTrain)\n",
    "xTestClean1, _, _ = clean_data(xTest)\n",
    "#least squares 1\n",
    "wLS1 = least_squares(yTrain, xTrainClean1)\n",
    "print(\"Least squares done\\n\")\n",
    "#ridge 1\n",
    "wRidge1 = []\n",
    "lambdas = [0.001]\n",
    "for ind, lambda_ in enumerate(lambdas): \n",
    "    wRidge1 = np.append(wRidge1, ridge_regression(yTrain, xTrainClean1, lambda_))\n",
    "print(\"Ridge done\\n\")\n",
    "#polynomial feature extension degree 4 and Ridge 1\n",
    "degree = 4\n",
    "lambda_ = 0.001\n",
    "xTrainPoly1 = build_poly(xTrainClean1[:,0], degree) #begin by building the polynomal feature\n",
    "for i in range(1,len(xTrainClean1.T)-1): #do this for every feature\n",
    "    toAdd = build_poly(xTrainClean1[:,i], degree)\n",
    "    xTrainPoly1 = np.concatenate((xTrainPoly1, toAdd), axis=1)\n",
    "wRidgePoly1 = ridge_regression(yTrain, xTrainPoly1, lambda_)\n",
    "print(\"Poly done\\n\")"
   ]
  },
  {
   "cell_type": "code",
   "execution_count": 112,
   "id": "ec454471-938a-46f6-a930-72065472a52a",
   "metadata": {},
   "outputs": [
    {
     "name": "stdout",
     "output_type": "stream",
     "text": [
      "Least squares accuracy is 70.9696 %.\n",
      "\n",
      "Ridge accuracy is 71.708 %.\n",
      "\n",
      "Polynomial extension with Ridge accuracy is 77.47840000000001 %.\n",
      "\n"
     ]
    }
   ],
   "source": [
    "#calculate accuracy for method 1\n",
    "#least squares 1\n",
    "accGuessLS1 = get_accuracy(xTestClean1@wLS1, yTest)\n",
    "print(\"Least squares accuracy is\" , accGuessLS1*100, \"%.\\n\")\n",
    "#ridge 1\n",
    "accGuessRidge1 = get_accuracy(xTestClean1@wRidge1, yTest)\n",
    "print(\"Ridge accuracy is\" , accGuessRidge1*100, \"%.\\n\")\n",
    "#polynomial/ridge 1\n",
    "xTestPoly1 = build_poly(xTestClean1[:,0], degree) #begin by building the polynomal feature\n",
    "for i in range(1,len(xTestClean1.T)-1): #do this for every feature\n",
    "    toAdd = build_poly(xTestClean1[:,i], degree)\n",
    "    xTestPoly1 = np.concatenate((xTestPoly1, toAdd), axis=1)\n",
    "accGuessPoly1 = get_accuracy(xTestPoly1@wRidgePoly1, yTest)\n",
    "print(\"Polynomial extension with Ridge accuracy is\" , accGuessPoly1*100, \"%.\\n\")"
   ]
  },
  {
   "cell_type": "code",
   "execution_count": 113,
   "id": "cae6effb-f19a-4263-94cd-7a3f088b15b4",
   "metadata": {},
   "outputs": [
    {
     "name": "stdout",
     "output_type": "stream",
     "text": [
      "Least squares done\n",
      "\n",
      "Ridge done\n",
      "\n",
      "Poly done\n",
      "\n"
     ]
    }
   ],
   "source": [
    "#method : do NOTHING to the data\n",
    "xTrainClean2 = xTrain\n",
    "xTestClean2 = xTest\n",
    "#least squares \n",
    "wLS2 = least_squares(yTrain, xTrainClean1)\n",
    "print(\"Least squares done\\n\")\n",
    "#ridge \n",
    "wRidge2 = []\n",
    "lambdas = [0.001]\n",
    "for ind, lambda_ in enumerate(lambdas): \n",
    "    wRidge2 = np.append(wRidge2, ridge_regression(yTrain, xTrainClean2, lambda_))\n",
    "print(\"Ridge done\\n\")\n",
    "#polynomial feature extension degree 5 and Ridge 2\n",
    "degree = 4\n",
    "lambda_ = 0.001\n",
    "xTrainPoly2 = build_poly(xTrainClean2[:,0], degree) #begin by building the polynomal feature\n",
    "for i in range(1,len(xTrainClean2.T)-1): #do this for every feature\n",
    "    toAdd = build_poly(xTrainClean2[:,i], degree)\n",
    "    xTrainPoly2 = np.concatenate((xTrainPoly2, toAdd), axis=1)\n",
    "wRidgePoly2 = ridge_regression(yTrain, xTrainPoly2, lambda_)\n",
    "print(\"Poly done\\n\")"
   ]
  },
  {
   "cell_type": "code",
   "execution_count": 114,
   "id": "1c77bd05-576f-4795-bf0e-6e858a41d03a",
   "metadata": {},
   "outputs": [
    {
     "name": "stdout",
     "output_type": "stream",
     "text": [
      "Least squares accuracy is 70.9696 %.\n",
      "\n",
      "Ridge accuracy is 49.2336 %.\n",
      "\n",
      "Polynomial extension with Ridge accuracy is 78.6816 %.\n",
      "\n"
     ]
    }
   ],
   "source": [
    "#calculate accuracy for method 2\n",
    "#least squares 2\n",
    "accGuessLS2 = get_accuracy(xTestClean2@wLS2, yTest)\n",
    "print(\"Least squares accuracy is\" , accGuessLS1*100, \"%.\\n\")\n",
    "#ridge 2\n",
    "accGuessRidge2 = get_accuracy(xTestClean2@wRidge2, yTest)\n",
    "print(\"Ridge accuracy is\" , accGuessRidge2*100, \"%.\\n\")\n",
    "#polynomial/ridge 2\n",
    "xTestPoly2 = build_poly(xTestClean2[:,0], degree) #begin by building the polynomal feature\n",
    "for i in range(1,len(xTestClean2.T)-1): #do this for every feature\n",
    "    toAdd = build_poly(xTestClean2[:,i], degree)\n",
    "    xTestPoly2 = np.concatenate((xTestPoly2, toAdd), axis=1)\n",
    "accGuessPoly2 = get_accuracy(xTestPoly2@wRidgePoly2, yTest)\n",
    "print(\"Polynomial extension with Ridge accuracy is\" , accGuessPoly2*100, \"%.\\n\")"
   ]
  },
  {
   "cell_type": "code",
   "execution_count": 147,
   "id": "48f80478-57ce-4e13-a212-fcad492abfef",
   "metadata": {},
   "outputs": [
    {
     "name": "stdout",
     "output_type": "stream",
     "text": [
      "Least squares done\n",
      "\n",
      "Ridge done\n",
      "\n",
      "Poly done\n",
      "\n"
     ]
    }
   ],
   "source": [
    "#method 3: set -999 to the mean, do nothing else\n",
    "xTrainClean3 = xTrain\n",
    "xTestClean3 = xTest\n",
    "#put -999.0 values to nan\n",
    "xTrainClean3[xTrainClean3 == -999] = np.nan\n",
    "xTestClean3[xTestClean3 == -999] = np.nan\n",
    "#this computes the mean without the influence of the -999s\n",
    "_, xTrainMean, _ = clean_data(xTrainClean3)\n",
    "_, xTestMean, _ = clean_data(xTestClean3)\n",
    "#replace Nan with the mean of the corresponding column\n",
    "for i in range(len(xTrainMean)):\n",
    "    xTrainClean3[:,i] = np.nan_to_num(xTrainClean3[:,i], nan=xTrainMean[i])\n",
    "for i in range(len(xTestMean)):\n",
    "    xTestClean3[:,i] = np.nan_to_num(xTestClean3[:,i], nan=xTestMean[i])\n",
    "#least squares 3\n",
    "wLS3 = least_squares(yTrain, xTrainClean3)\n",
    "print(\"Least squares done\\n\")\n",
    "#ridge 3\n",
    "wRidge3 = []\n",
    "lambdas = [0.001]\n",
    "for ind, lambda_ in enumerate(lambdas): \n",
    "    wRidge3 = np.append(wRidge3, ridge_regression(yTrain, xTrainClean3, lambda_))\n",
    "print(\"Ridge done\\n\")\n",
    "#polynomial feature extension degree 5 and Ridge 3\n",
    "degree = 4\n",
    "lambda_ = 0.001\n",
    "xTrainPoly3 = build_poly(xTrainClean3[:,0], degree) #begin by building the polynomal feature\n",
    "for i in range(1,len(xTrainClean3.T)-1): #do this for every feature\n",
    "    toAdd = build_poly(xTrainClean3[:,i], degree)\n",
    "    xTrainPoly3 = np.concatenate((xTrainPoly3, toAdd), axis=1)\n",
    "wRidgePoly3 = ridge_regression(yTrain, xTrainPoly3, lambda_)\n",
    "print(\"Poly done\\n\")"
   ]
  },
  {
   "cell_type": "code",
   "execution_count": 148,
   "id": "473c7e81-d77a-45da-b37c-384a24b71365",
   "metadata": {},
   "outputs": [
    {
     "name": "stdout",
     "output_type": "stream",
     "text": [
      "Least squares accuracy is 74.03999999999999 %.\n",
      "\n",
      "Ridge accuracy is 73.9824 %.\n",
      "\n",
      "Polynomial extension with Ridge accuracy is 79.2832 %.\n",
      "\n"
     ]
    }
   ],
   "source": [
    "#calculate accuracy for method 3\n",
    "#least squares 3\n",
    "accGuessLS3 = get_accuracy(xTestClean3@wLS3, yTest)\n",
    "print(\"Least squares accuracy is\" , accGuessLS3*100, \"%.\\n\")\n",
    "#ridge 3\n",
    "accGuessRidge3 = get_accuracy(xTestClean3@wRidge3, yTest)\n",
    "print(\"Ridge accuracy is\" , accGuessRidge3*100, \"%.\\n\")\n",
    "#polynomial/ridge 3\n",
    "xTestPoly3 = build_poly(xTestClean3[:,0], degree) #begin by building the polynomal feature\n",
    "for i in range(1,len(xTestClean3.T)-1): #do this for every feature\n",
    "    toAdd = build_poly(xTestClean3[:,i], degree)\n",
    "    xTestPoly3 = np.concatenate((xTestPoly3, toAdd), axis=1)\n",
    "accGuessPoly3 = get_accuracy(xTestPoly3@wRidgePoly3, yTest)\n",
    "print(\"Polynomial extension with Ridge accuracy is\" , accGuessPoly3*100, \"%.\\n\")"
   ]
  },
  {
   "cell_type": "code",
   "execution_count": 5,
   "id": "1ae7691f-cf24-448a-8784-88896d6d918f",
   "metadata": {},
   "outputs": [
    {
     "name": "stdout",
     "output_type": "stream",
     "text": [
      "Least squares done\n",
      "\n",
      "Ridge done\n",
      "\n",
      "Poly done\n",
      "\n"
     ]
    }
   ],
   "source": [
    "#method 4: set -999 to the median, do nothing else\n",
    "xTrainClean4 = xTrain\n",
    "xTestClean4 = xTest\n",
    "#put -999.0 values to nan\n",
    "xTrainClean4[xTrainClean4 == -999] = np.nan\n",
    "xTestClean4[xTestClean4 == -999] = np.nan\n",
    "#this computes the median without the influence of the -999s\n",
    "_, _, xTrainMedian = clean_data(xTrainClean4)\n",
    "_, _, xTestMedian = clean_data(xTestClean4)\n",
    "#replace Nan with the mean of the corresponding column\n",
    "for i in range(len(xTrainMedian)):\n",
    "    xTrainClean4[:,i] = np.nan_to_num(xTrainClean4[:,i], nan=xTrainMedian[i])\n",
    "for i in range(len(xTestMedian)):\n",
    "    xTestClean4[:,i] = np.nan_to_num(xTestClean4[:,i], nan=xTestMedian[i])\n",
    "#least squares 4\n",
    "wLS4 = least_squares(yTrain, xTrainClean4)\n",
    "print(\"Least squares done\\n\")\n",
    "#ridge 4\n",
    "wRidge4 = []\n",
    "lambdas = [0.001]\n",
    "for ind, lambda_ in enumerate(lambdas): \n",
    "    wRidge4 = np.append(wRidge4, ridge_regression(yTrain, xTrainClean4, lambda_))\n",
    "print(\"Ridge done\\n\")\n",
    "#polynomial feature extension degree 5 and Ridge 4\n",
    "degree = 5\n",
    "lambda_ = 0.001\n",
    "xTrainPoly4 = build_poly(xTrainClean4[:,0], degree) #begin by building the polynomal feature\n",
    "for i in range(1,len(xTrainClean4.T)-1): #do this for every feature\n",
    "    toAdd = build_poly(xTrainClean4[:,i], degree)\n",
    "    xTrainPoly4 = np.concatenate((xTrainPoly4, toAdd), axis=1)\n",
    "wRidgePoly4 = ridge_regression(yTrain, xTrainPoly4, lambda_)\n",
    "print(\"Poly done\\n\")"
   ]
  },
  {
   "cell_type": "code",
   "execution_count": 6,
   "id": "5e54b12c-8d40-4a6f-9dac-656d2d2df8af",
   "metadata": {},
   "outputs": [
    {
     "name": "stdout",
     "output_type": "stream",
     "text": [
      "Least squares accuracy is 74.344 %.\n",
      "\n",
      "Ridge accuracy is 74.35199999999999 %.\n",
      "\n",
      "Polynomial extension with Ridge accuracy is 79.712 %.\n",
      "\n"
     ]
    }
   ],
   "source": [
    "#calculate accuracy for method 4\n",
    "#least squares 4\n",
    "accGuessLS4 = get_accuracy(xTestClean4@wLS4, yTest)\n",
    "print(\"Least squares accuracy is\" , accGuessLS4*100, \"%.\\n\")\n",
    "#ridge 4\n",
    "accGuessRidge4 = get_accuracy(xTestClean4@wRidge4, yTest)\n",
    "print(\"Ridge accuracy is\" , accGuessRidge4*100, \"%.\\n\")\n",
    "#polynomial/ridge 4\n",
    "xTestPoly4 = build_poly(xTestClean4[:,0], degree) #begin by building the polynomal feature\n",
    "for i in range(1,len(xTestClean4.T)-1): #do this for every feature\n",
    "    toAdd = build_poly(xTestClean4[:,i], degree)\n",
    "    xTestPoly4 = np.concatenate((xTestPoly4, toAdd), axis=1)\n",
    "accGuessPoly4 = get_accuracy(xTestPoly4@wRidgePoly4, yTest)\n",
    "print(\"Polynomial extension with Ridge accuracy is\" , accGuessPoly4*100, \"%.\\n\")"
   ]
  },
  {
   "cell_type": "code",
   "execution_count": 53,
   "id": "cba7ea31-a3a1-49ca-b489-1831ec20004d",
   "metadata": {},
   "outputs": [
    {
     "name": "stdout",
     "output_type": "stream",
     "text": [
      "Least squares done\n",
      "\n",
      "Ridge done\n",
      "\n",
      "Poly done\n",
      "\n"
     ]
    }
   ],
   "source": [
    "#method 5: set -999 to the median, normalize everything\n",
    "xTrainClean5 = xTrain\n",
    "xTestClean5 = xTest\n",
    "#put -999.0 values to nan\n",
    "xTrainClean5[xTrainClean5 == -999] = np.nan\n",
    "xTestClean5[xTestClean5 == -999] = np.nan\n",
    "#this computes the median without the influence of the -999s\n",
    "_, _, xTrainMedian = clean_data(xTrainClean5)\n",
    "_, _, xTestMedian = clean_data(xTestClean5)\n",
    "#replace Nan with the mean of the corresponding column\n",
    "for i in range(len(xTrainMedian)):\n",
    "    xTrainClean5[:,i] = np.nan_to_num(xTrainClean5[:,i], nan=xTrainMedian[i])\n",
    "for i in range(len(xTestMedian)):\n",
    "    xTestClean5[:,i] = np.nan_to_num(xTestClean5[:,i], nan=xTestMedian[i])\n",
    "#now, normalize the data\n",
    "xTrainClean5, _, _ = clean_data(xTrainClean5)\n",
    "xTestClean5, _, _ = clean_data(xTestClean5)\n",
    "#least squares 5\n",
    "wLS5 = least_squares(yTrain, xTrainClean5)\n",
    "print(\"Least squares done\\n\")\n",
    "#ridge 5\n",
    "wRidge5 = []\n",
    "lambdas = [0.001]\n",
    "for ind, lambda_ in enumerate(lambdas): \n",
    "    wRidge5 = np.append(wRidge5, ridge_regression(yTrain, xTrainClean5, lambda_))\n",
    "print(\"Ridge done\\n\")\n",
    "#polynomial feature extension degree 5 and Ridge 5\n",
    "degree = 10\n",
    "lambda_ = 0.1\n",
    "xTrainPoly5 = build_poly(xTrainClean5[:,0], degree) #begin by building the polynomal feature\n",
    "for i in range(1,len(xTrainClean5.T)-1): #do this for every feature\n",
    "    toAdd = build_poly(xTrainClean5[:,i], degree)\n",
    "    xTrainPoly5 = np.concatenate((xTrainPoly5, toAdd), axis=1)\n",
    "wRidgePoly5 = ridge_regression(yTrain, xTrainPoly5, lambda_)\n",
    "print(\"Poly done\\n\")"
   ]
  },
  {
   "cell_type": "code",
   "execution_count": 54,
   "id": "8b43c4a3-c0d8-415d-9791-6ef83f1a5dbc",
   "metadata": {},
   "outputs": [
    {
     "name": "stdout",
     "output_type": "stream",
     "text": [
      "Least squares accuracy is 65.28399999999999 %.\n",
      "\n",
      "Ridge accuracy is 71.804 %.\n",
      "\n",
      "Polynomial extension with Ridge accuracy is 79.684 %.\n",
      "\n"
     ]
    }
   ],
   "source": [
    "#calculate accuracy for method 5\n",
    "#least squares 5\n",
    "accGuessLS5 = get_accuracy(xTestClean5@wLS5, yTest)\n",
    "print(\"Least squares accuracy is\" , accGuessLS5*100, \"%.\\n\")\n",
    "#ridge 5\n",
    "accGuessRidge5 = get_accuracy(xTestClean5@wRidge5, yTest)\n",
    "print(\"Ridge accuracy is\" , accGuessRidge5*100, \"%.\\n\")\n",
    "#polynomial/ridge 5\n",
    "xTestPoly5 = build_poly(xTestClean5[:,0], degree) #begin by building the polynomal feature\n",
    "for i in range(1,len(xTestClean5.T)-1): #do this for every feature\n",
    "    toAdd = build_poly(xTestClean5[:,i], degree)\n",
    "    xTestPoly5 = np.concatenate((xTestPoly5, toAdd), axis=1)\n",
    "accGuessPoly5 = get_accuracy(xTestPoly5@wRidgePoly5, yTest)\n",
    "print(\"Polynomial extension with Ridge accuracy is\" , accGuessPoly5*100, \"%.\\n\")"
   ]
  },
  {
   "cell_type": "code",
   "execution_count": 34,
   "id": "91d2c2ea-8419-468a-a62e-c806e2aac9e6",
   "metadata": {},
   "outputs": [],
   "source": [
    "#use this to make predictions for the website\n",
    "DATA_TEST_PATH = 'test.csv'\n",
    "_, x_test, ids_test = load_csv_data(DATA_TEST_PATH)"
   ]
  },
  {
   "cell_type": "code",
   "execution_count": 9,
   "id": "c9404b32-ec8f-4013-b834-c1408db48c6a",
   "metadata": {},
   "outputs": [],
   "source": [
    "#clean the data: in this case, use the median replacement technique\n",
    "xTestCleanSub = x_test\n",
    "xTestCleanSub[xTestCleanSub == -999] = np.nan\n",
    "_, _, xTestMedian = clean_data(xTestCleanSub)\n",
    "for i in range(len(xTestMedian)):\n",
    "    xTestCleanSub[:,i] = np.nan_to_num(xTestCleanSub[:,i], nan=xTestMedian[i])\n",
    "#polynomial feature extension\n",
    "degree = 5\n",
    "xTestPolySub = build_poly(xTestCleanSub[:,0], degree) #begin by building the polynomal feature\n",
    "for i in range(1,len(xTestCleanSub.T)-1): #do this for every feature\n",
    "    toAdd = build_poly(xTestCleanSub[:,i], degree)\n",
    "    xTestPolySub = np.concatenate((xTestPolySub, toAdd), axis=1)\n",
    "\n",
    "prediction = predict_labels(wRidgePoly4, xTestPolySub)\n",
    "name = 'prediction12.csv'\n",
    "create_csv_submission(ids_test, prediction, name)"
   ]
  },
  {
   "cell_type": "code",
   "execution_count": 35,
   "id": "605c5505-6445-4ae8-a585-4d0d5826aec1",
   "metadata": {},
   "outputs": [],
   "source": [
    "#clean the data: in this case, use the median replacement + normalization (degree 10, 0.001)\n",
    "xTestCleanSub = x_test\n",
    "xTestCleanSub[xTestCleanSub == -999] = np.nan\n",
    "_, _, xTestMedian = clean_data(xTestCleanSub)\n",
    "for i in range(len(xTestMedian)):\n",
    "    xTestCleanSub[:,i] = np.nan_to_num(xTestCleanSub[:,i], nan=xTestMedian[i])\n",
    "xTestCleanSub, _, _ = clean_data(xTestCleanSub)\n",
    "#polynomial feature extension\n",
    "degree = 10\n",
    "xTestPolySub = build_poly(xTestCleanSub[:,0], degree) #begin by building the polynomal feature\n",
    "for i in range(1,len(xTestCleanSub.T)-1): #do this for every feature\n",
    "    toAdd = build_poly(xTestCleanSub[:,i], degree)\n",
    "    xTestPolySub = np.concatenate((xTestPolySub, toAdd), axis=1)\n",
    "prediction = predict_labels(wRidgePoly5, xTestPolySub)\n",
    "name = 'prediction13.csv'\n",
    "create_csv_submission(ids_test, prediction, name)"
   ]
  },
  {
   "cell_type": "code",
   "execution_count": null,
   "id": "fd9f369f-08ea-43a3-9c40-8b22e646bb65",
   "metadata": {},
   "outputs": [],
   "source": []
  }
 ],
 "metadata": {
  "kernelspec": {
   "display_name": "Python",
   "language": "python",
   "name": "python3"
  },
  "language_info": {
   "codemirror_mode": {
    "name": "ipython",
    "version": 3
   },
   "file_extension": ".py",
   "mimetype": "text/x-python",
   "name": "python",
   "nbconvert_exporter": "python",
   "pygments_lexer": "ipython3",
   "version": "3.8.10"
  }
 },
 "nbformat": 4,
 "nbformat_minor": 5
}
